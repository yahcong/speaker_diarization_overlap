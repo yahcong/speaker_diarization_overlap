{
 "cells": [
  {
   "cell_type": "code",
   "execution_count": 3,
   "metadata": {},
   "outputs": [
    {
     "name": "stdout",
     "output_type": "stream",
     "text": [
      "tensor([[1., 1.],\n",
      "        [1., 1.]], requires_grad=True)\n",
      "-----------------------\n",
      "tensor([[1., 1.],\n",
      "        [1., 1.]])\n",
      "None\n",
      "None\n",
      "-----------------------\n",
      "tensor([[3., 3.],\n",
      "        [3., 3.]], grad_fn=<AddBackward0>)\n",
      "<AddBackward0 object at 0x7f49ed700390>\n",
      "None\n"
     ]
    }
   ],
   "source": [
    "from torch.autograd import Variable, Function\n",
    "import torch\n",
    "\n",
    "# 生成Variable\n",
    "x = Variable(torch.ones(2, 2), requires_grad=True) # requires_grad表示在backward是否计算其梯度\n",
    "print(x)\n",
    "\n",
    "print('-----------------------')\n",
    "\n",
    "# 查看Variable的属性.data, .grad, .creator\n",
    "print(x.data)    # Variable保存的值\n",
    "print(x.grad)    # 由于目前还未进行.backward()运算，因此不存在梯度\n",
    "print(x.grad_fn) # 对于手动声明的Variable，不存在grad_fn/creator，即在计算图中，该Variable不存在父节点\n",
    "\n",
    "print('-----------------------')\n",
    "\n",
    "# Variable进行运算\n",
    "y = x + 2\n",
    "print(y)\n",
    "print(y.grad_fn) # y存在x这个父节点，并且通过'+'这个Function进行连接，因此y.grad_fn是运算+:Add\n",
    "print(y.grad)#由于目前还未进行.backward()运算，因此不存在梯度"
   ]
  },
  {
   "cell_type": "code",
   "execution_count": 3,
   "metadata": {},
   "outputs": [
    {
     "name": "stdout",
     "output_type": "stream",
     "text": [
      "tensor([1.])\n",
      "None\n",
      "<MulBackward0 object at 0x7fc58a71d940>\n",
      "<LogBackward object at 0x7fc58a71db70>\n"
     ]
    }
   ],
   "source": [
    "# 生成计算图\n",
    "x = Variable(torch.ones([1]), requires_grad=True)\n",
    "y = 0.5 * (x + 1).pow(2)\n",
    "z = torch.log(y)\n",
    "\n",
    "# 进行backward\n",
    "# 注意这里等价于z.backward(torch.Tensor([1.0]))，参数表示的是后面的输出对Variable z的梯度,即z对参数求导\n",
    "#torch.Tensor([1.0])即torch.Tensor([1.])即x，z.backward()即z.backward(x)\n",
    "z.backward() #z.backward(x)\n",
    "#因为backward()只求图中叶子的梯度（即无父节点）!所以x有梯度，而y没有求梯度。\n",
    "#以a为底的X的对数 的导数是1/xlna ，以e为底的是1/x \n",
    "print(x.grad)\n",
    "# 此时y.grad为None，如果需要对y求梯度，则可以使用`register_hook`\n",
    "print(y.grad)\n",
    "\n",
    "print(y.grad_fn)#Mul,只显示最后一个计算操作。\n",
    "print(z.grad_fn)#log"
   ]
  },
  {
   "cell_type": "code",
   "execution_count": 35,
   "metadata": {},
   "outputs": [],
   "source": [
    "from graphviz import Digraph\n",
    "import re\n",
    "import torch\n",
    "import torch.nn.functional as F\n",
    "from torch.autograd import Variable\n",
    "from torch.autograd import Variable\n",
    "import torchvision.models as models\n",
    "\n",
    "def make_dot(var):\n",
    "    node_attr = dict(style='filled',\n",
    "                     shape='box',\n",
    "                     align='left',\n",
    "                     fontsize='12',\n",
    "                     ranksep='0.1',\n",
    "                     height='0.2')\n",
    "    dot = Digraph(node_attr=node_attr, graph_attr=dict(size=\"12,12\"))\n",
    "    seen = set()\n",
    "    \n",
    "    def size_to_str(size):\n",
    "        return '('+(', ').join(['%d' % v for v in size])+')'\n",
    "\n",
    "    def add_nodes(var):\n",
    "        if var not in seen:\n",
    "            if torch.is_tensor(var):\n",
    "                print('car')\n",
    "                dot.node(str(id(var)), size_to_str(var.size()), fillcolor='orange')\n",
    "            elif hasattr(var, 'variable'):\n",
    "                print('f')\n",
    "                u = var.variable\n",
    "                name = ''\n",
    "                node_name = '%s\\n %s' % (name, size_to_str(u.size()))\n",
    "                dot.node(str(id(var)), node_name, fillcolor='lightblue')\n",
    "            else:\n",
    "                print('d')\n",
    "                dot.node(str(id(var)), str(type(var).__name__))\n",
    "            seen.add(var)\n",
    "            if hasattr(var, 'next_functions'):\n",
    "                print('b')\n",
    "                for u in var.next_functions:\n",
    "                    if u[0] is not None:\n",
    "                        dot.edge(str(id(u[0])), str(id(var)))\n",
    "                        add_nodes(u[0])\n",
    "            if hasattr(var, 'saved_tensors'):\n",
    "                print('s')\n",
    "                for t in var.saved_tensors:\n",
    "                    dot.edge(str(id(t)), str(id(var)))\n",
    "                    add_nodes(t)\n",
    "    add_nodes(var.grad_fn)\n",
    "\n",
    "    return dot "
   ]
  },
  {
   "cell_type": "code",
   "execution_count": 37,
   "metadata": {},
   "outputs": [
    {
     "name": "stdout",
     "output_type": "stream",
     "text": [
      "tensor([1.], requires_grad=True)\n",
      "tensor([2.], grad_fn=<MulBackward0>)\n",
      "<class 'LogBackward'>\n",
      "d\n",
      "b\n",
      "d\n",
      "b\n",
      "d\n",
      "b\n",
      "d\n",
      "b\n",
      "f\n",
      "b\n"
     ]
    },
    {
     "data": {
      "image/svg+xml": [
       "<?xml version=\"1.0\" encoding=\"UTF-8\" standalone=\"no\"?>\n",
       "<!DOCTYPE svg PUBLIC \"-//W3C//DTD SVG 1.1//EN\"\n",
       " \"http://www.w3.org/Graphics/SVG/1.1/DTD/svg11.dtd\">\n",
       "<!-- Generated by graphviz version 2.30.1 (20150306.0020)\n",
       " -->\n",
       "<!-- Title: %3 Pages: 1 -->\n",
       "<svg width=\"100pt\" height=\"276pt\"\n",
       " viewBox=\"0.00 0.00 100.00 276.00\" xmlns=\"http://www.w3.org/2000/svg\" xmlns:xlink=\"http://www.w3.org/1999/xlink\">\n",
       "<g id=\"graph0\" class=\"graph\" transform=\"scale(1 1) rotate(0) translate(4 272)\">\n",
       "<title>%3</title>\n",
       "<polygon fill=\"white\" stroke=\"white\" points=\"-4,5 -4,-272 97,-272 97,5 -4,5\"/>\n",
       "<!-- 139955492881744 -->\n",
       "<g id=\"node1\" class=\"node\"><title>139955492881744</title>\n",
       "<polygon fill=\"lightgrey\" stroke=\"black\" points=\"88.25,-21.5 3.75,-21.5 3.75,-0.5 88.25,-0.5 88.25,-21.5\"/>\n",
       "<text text-anchor=\"middle\" x=\"46\" y=\"-7.9\" font-family=\"Times,serif\" font-size=\"12.00\">LogBackward</text>\n",
       "</g>\n",
       "<!-- 139955492881184 -->\n",
       "<g id=\"node2\" class=\"node\"><title>139955492881184</title>\n",
       "<polygon fill=\"lightgrey\" stroke=\"black\" points=\"91.25,-79.5 0.75,-79.5 0.75,-58.5 91.25,-58.5 91.25,-79.5\"/>\n",
       "<text text-anchor=\"middle\" x=\"46\" y=\"-65.9\" font-family=\"Times,serif\" font-size=\"12.00\">MulBackward0</text>\n",
       "</g>\n",
       "<!-- 139955492881184&#45;&gt;139955492881744 -->\n",
       "<g id=\"edge1\" class=\"edge\"><title>139955492881184&#45;&gt;139955492881744</title>\n",
       "<path fill=\"none\" stroke=\"black\" d=\"M46,-58.2455C46,-50.9382 46,-40.6944 46,-31.7046\"/>\n",
       "<polygon fill=\"black\" stroke=\"black\" points=\"49.5001,-31.6426 46,-21.6427 42.5001,-31.6427 49.5001,-31.6426\"/>\n",
       "</g>\n",
       "<!-- 139955492882304 -->\n",
       "<g id=\"node3\" class=\"node\"><title>139955492882304</title>\n",
       "<polygon fill=\"lightgrey\" stroke=\"black\" points=\"92.25,-137.5 -0.25,-137.5 -0.25,-116.5 92.25,-116.5 92.25,-137.5\"/>\n",
       "<text text-anchor=\"middle\" x=\"46\" y=\"-123.9\" font-family=\"Times,serif\" font-size=\"12.00\">PowBackward0</text>\n",
       "</g>\n",
       "<!-- 139955492882304&#45;&gt;139955492881184 -->\n",
       "<g id=\"edge2\" class=\"edge\"><title>139955492882304&#45;&gt;139955492881184</title>\n",
       "<path fill=\"none\" stroke=\"black\" d=\"M46,-116.246C46,-108.938 46,-98.6944 46,-89.7046\"/>\n",
       "<polygon fill=\"black\" stroke=\"black\" points=\"49.5001,-89.6426 46,-79.6427 42.5001,-89.6427 49.5001,-89.6426\"/>\n",
       "</g>\n",
       "<!-- 139955492884376 -->\n",
       "<g id=\"node4\" class=\"node\"><title>139955492884376</title>\n",
       "<polygon fill=\"lightgrey\" stroke=\"black\" points=\"92,-195.5 0,-195.5 0,-174.5 92,-174.5 92,-195.5\"/>\n",
       "<text text-anchor=\"middle\" x=\"46\" y=\"-181.9\" font-family=\"Times,serif\" font-size=\"12.00\">AddBackward0</text>\n",
       "</g>\n",
       "<!-- 139955492884376&#45;&gt;139955492882304 -->\n",
       "<g id=\"edge3\" class=\"edge\"><title>139955492884376&#45;&gt;139955492882304</title>\n",
       "<path fill=\"none\" stroke=\"black\" d=\"M46,-174.246C46,-166.938 46,-156.694 46,-147.705\"/>\n",
       "<polygon fill=\"black\" stroke=\"black\" points=\"49.5001,-147.643 46,-137.643 42.5001,-147.643 49.5001,-147.643\"/>\n",
       "</g>\n",
       "<!-- 139955492882248 -->\n",
       "<g id=\"node5\" class=\"node\"><title>139955492882248</title>\n",
       "<polygon fill=\"lightblue\" stroke=\"black\" points=\"73,-267.5 19,-267.5 19,-232.5 73,-232.5 73,-267.5\"/>\n",
       "<text text-anchor=\"middle\" x=\"46\" y=\"-239.9\" font-family=\"Times,serif\" font-size=\"12.00\"> (1)</text>\n",
       "</g>\n",
       "<!-- 139955492882248&#45;&gt;139955492884376 -->\n",
       "<g id=\"edge4\" class=\"edge\"><title>139955492882248&#45;&gt;139955492884376</title>\n",
       "<path fill=\"none\" stroke=\"black\" d=\"M46,-232.447C46,-224.336 46,-214.503 46,-205.976\"/>\n",
       "<polygon fill=\"black\" stroke=\"black\" points=\"49.5001,-205.775 46,-195.775 42.5001,-205.775 49.5001,-205.775\"/>\n",
       "</g>\n",
       "</g>\n",
       "</svg>\n"
      ],
      "text/plain": [
       "<graphviz.dot.Digraph at 0x7f49ed700b38>"
      ]
     },
     "execution_count": 37,
     "metadata": {},
     "output_type": "execute_result"
    }
   ],
   "source": [
    "\n",
    "# yum install xdg-utils\n",
    "# 生成一个计算图y = 0.5*(x + 1)^2;  z = ln(y)\n",
    "x = Variable(torch.ones([1]), requires_grad=True)\n",
    "y = 0.5 * (x + 1).pow(2)\n",
    "z = torch.log(y)\n",
    "print(x)\n",
    "print(y)\n",
    "print(type(z.grad_fn))\n",
    "# 产生可视化计算图\n",
    "g = make_dot(z)\n",
    "g"
   ]
  },
  {
   "cell_type": "code",
   "execution_count": null,
   "metadata": {},
   "outputs": [],
   "source": []
  }
 ],
 "metadata": {
  "kernelspec": {
   "display_name": "Python 3",
   "language": "python",
   "name": "python3"
  },
  "language_info": {
   "codemirror_mode": {
    "name": "ipython",
    "version": 3
   },
   "file_extension": ".py",
   "mimetype": "text/x-python",
   "name": "python",
   "nbconvert_exporter": "python",
   "pygments_lexer": "ipython3",
   "version": "3.6.7"
  }
 },
 "nbformat": 4,
 "nbformat_minor": 2
}
